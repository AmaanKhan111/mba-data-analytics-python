{
 "cells": [
  {
   "cell_type": "markdown",
   "id": "ecc09c44",
   "metadata": {},
   "source": [
    "# First Programm\n"
   ]
  },
  {
   "cell_type": "code",
   "execution_count": 1,
   "id": "665186fb",
   "metadata": {},
   "outputs": [
    {
     "name": "stdout",
     "output_type": "stream",
     "text": [
      "Hello, World!\n",
      "Amaan Khan\n",
      "I am 20 years old\n",
      "I am learning Python\n",
      "I love coding\n",
      "I want to be a developer\n",
      "I enjoy problem solving\n",
      "I like to read books\n",
      "I am excited about the future\n",
      "I am grateful for this opportunity\n",
      "I am looking forward to learning more\n",
      "I am happy to be here\n",
      "I am thankful for my friends and family\n",
      "I am proud of my achievements\n",
      "I am motivated to succeed\n",
      "I am determined to reach my goals\n",
      "I am confident in my abilities\n",
      "I am ready to take on new challenges\n"
     ]
    }
   ],
   "source": [
    "print(\"Hello, World!\") #this is a print string\n",
    "print(\"Amaan Khan\") #this is my name\n",
    "print(\"I am 20 years old\") #this is my age\n",
    "print(\"I am learning Python\") #this is my learning journey      \n",
    "print(\"I love coding\") #this is my passion\n",
    "print(\"I want to be a developer\") #this is my goal\n",
    "print(\"I enjoy problem solving\") #this is my hobby\n",
    "print(\"I like to read books\") #this is my interest\n",
    "print(\"I am excited about the future\") #this is my outlook\n",
    "print(\"I am grateful for this opportunity\") #this is my gratitude\n",
    "print(\"I am looking forward to learning more\") #this is my enthusiasm\n",
    "print(\"I am happy to be here\") #this is my happiness\n",
    "print(\"I am thankful for my friends and family\") #this is my appreciation\n",
    "print(\"I am proud of my achievements\") #this is my pride\n",
    "print(\"I am motivated to succeed\") #this is my motivation\n",
    "print(\"I am determined to reach my goals\") #this is my determination\n",
    "print(\"I am confident in my abilities\") #this is my confidence\n",
    "print(\"I am ready to take on new challenges\") #this is my readiness"
   ]
  },
  {
   "cell_type": "markdown",
   "id": "3b0f6ef4",
   "metadata": {},
   "source": []
  }
 ],
 "metadata": {
  "kernelspec": {
   "display_name": "Python 3",
   "language": "python",
   "name": "python3"
  },
  "language_info": {
   "codemirror_mode": {
    "name": "ipython",
    "version": 3
   },
   "file_extension": ".py",
   "mimetype": "text/x-python",
   "name": "python",
   "nbconvert_exporter": "python",
   "pygments_lexer": "ipython3",
   "version": "3.12.1"
  }
 },
 "nbformat": 4,
 "nbformat_minor": 5
}
